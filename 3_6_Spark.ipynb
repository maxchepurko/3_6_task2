{
  "nbformat": 4,
  "nbformat_minor": 0,
  "metadata": {
    "colab": {
      "provenance": []
    },
    "kernelspec": {
      "name": "python3",
      "display_name": "Python 3"
    },
    "language_info": {
      "name": "python"
    }
  },
  "cells": [
    {
      "cell_type": "markdown",
      "source": [
        "Задание 2\n",
        "Генерация синтетических данных с использованием Apache Spark\n",
        "Цель задания: Использовать Apache Spark для создания синтетического набора данных, который имитирует информацию о покупках в интернет-магазине. Набор данных должен включать в себя информацию о заказах, включая дату заказа, идентификатор пользователя, название товара, количество и цену. Сгенерированные данные будут использованы для последующего анализа покупательской активности и понимания потребительских трендов.\n",
        "\n",
        "Шаги выполнения:\n",
        "Генерация данных:\n",
        "\n",
        "Создать DataFrame с полями: Дата, UserID, Продукт, Количество, Цена.\n",
        "\n",
        "Данные для поля Продукт генерируются из списка возможных товаров ( не меньше 5 товаров )\n",
        "\n",
        "Количество и Цена должны генерироваться случайно в заданных пределах.\n",
        "\n",
        "Дата должна быть в пределах последнего года.\n",
        "\n",
        "UserID представляет собой случайное число, имитирующее идентификаторы пользователей.\n",
        "\n",
        "Обратите внимание, что должна быть возможности изменять количество сгенерированных строк. Минимальное количество - 1000 строк.\n",
        "\n",
        "Сохранение данных:\n",
        "\n",
        "Сохранить сгенерированный DataFrame в формате CSV для последующего анализа.\n",
        "\n",
        "Результат выполнения задания (код генерации синтетических данных и созданный файл *.csv) необходимо выложить в github/gitlab и указать ссылку на Ваш репозиторий (не забудьте: репозиторий должен быть публичным)."
      ],
      "metadata": {
        "id": "98GHwpns9riI"
      }
    },
    {
      "cell_type": "code",
      "source": [
        "!pip install pyspark\n",
        "!pip install install-jdk\n",
        "!pip install findspark"
      ],
      "metadata": {
        "colab": {
          "base_uri": "https://localhost:8080/"
        },
        "id": "T17y4uMSGF2y",
        "outputId": "0816fbba-ff27-4f24-beb3-1678219a1c5c"
      },
      "execution_count": 3,
      "outputs": [
        {
          "output_type": "stream",
          "name": "stdout",
          "text": [
            "Collecting pyspark\n",
            "  Downloading pyspark-3.5.1.tar.gz (317.0 MB)\n",
            "\u001b[2K     \u001b[90m━━━━━━━━━━━━━━━━━━━━━━━━━━━━━━━━━━━━━━━━\u001b[0m \u001b[32m317.0/317.0 MB\u001b[0m \u001b[31m3.4 MB/s\u001b[0m eta \u001b[36m0:00:00\u001b[0m\n",
            "\u001b[?25h  Preparing metadata (setup.py) ... \u001b[?25l\u001b[?25hdone\n",
            "Requirement already satisfied: py4j==0.10.9.7 in /usr/local/lib/python3.10/dist-packages (from pyspark) (0.10.9.7)\n",
            "Building wheels for collected packages: pyspark\n",
            "  Building wheel for pyspark (setup.py) ... \u001b[?25l\u001b[?25hdone\n",
            "  Created wheel for pyspark: filename=pyspark-3.5.1-py2.py3-none-any.whl size=317488491 sha256=fd087c0981a9ea21eed94b4e01bb188f495865b87ba46e380eb8a3aaed79c689\n",
            "  Stored in directory: /root/.cache/pip/wheels/80/1d/60/2c256ed38dddce2fdd93be545214a63e02fbd8d74fb0b7f3a6\n",
            "Successfully built pyspark\n",
            "Installing collected packages: pyspark\n",
            "Successfully installed pyspark-3.5.1\n",
            "Collecting install-jdk\n",
            "  Downloading install_jdk-1.1.0-py3-none-any.whl (15 kB)\n",
            "Installing collected packages: install-jdk\n",
            "Successfully installed install-jdk-1.1.0\n",
            "Collecting findspark\n",
            "  Downloading findspark-2.0.1-py2.py3-none-any.whl (4.4 kB)\n",
            "Installing collected packages: findspark\n",
            "Successfully installed findspark-2.0.1\n"
          ]
        }
      ]
    },
    {
      "cell_type": "code",
      "source": [
        "from pyspark.sql import SparkSession\n",
        "from pyspark.sql.functions import col, expr, lit, rand, randn\n",
        "import datetime\n",
        "from google.colab import files"
      ],
      "metadata": {
        "id": "C5Ak-XH-Icq6"
      },
      "execution_count": 1,
      "outputs": []
    },
    {
      "cell_type": "code",
      "source": [
        "# Создаем сессию\n",
        "spark = SparkSession.builder \\\n",
        "    .appName(\"GenerateSyntheticData_1\") \\\n",
        "    .getOrCreate()"
      ],
      "metadata": {
        "id": "tA5ZosMpIeso"
      },
      "execution_count": 2,
      "outputs": []
    },
    {
      "cell_type": "code",
      "source": [
        "# Создаем список товаров\n",
        "products = ['Kettle', 'Owen', 'Microwave', 'Blender', 'Mixer']\n",
        "\n",
        "# Задаем количество строк для генерации\n",
        "num_rows = 1000\n",
        "\n",
        "# Создаем DataFrame со случайными данными\n",
        "df = spark.range(0, num_rows).select(\n",
        "    (expr(\"date_sub(current_date(), cast(rand() * 365 as int))\")).alias(\"Date\"),\n",
        "    (expr(\"cast(rand() * 10000 as int) + 1\")).alias(\"UserID\"),\n",
        "    (expr(f\"element_at(array('{products[0]}', '{products[1]}', '{products[2]}', '{products[3]}', '{products[4]}'), cast(rand() * {len(products)} as int) + 1)\")).alias(\"Product\"),\n",
        "    (expr(\"cast(rand() * 10 as int) + 1\")).alias(\"Quantity\"),\n",
        "    (expr(\"round(rand() * 1000, 2)\")).alias(\"Price\")\n",
        ")\n",
        "\n",
        "print(df.count())\n",
        "df.show(10)"
      ],
      "metadata": {
        "colab": {
          "base_uri": "https://localhost:8080/"
        },
        "id": "y7t0aT8O-RH7",
        "outputId": "da6ee6b1-f560-43b2-d17f-2aa519ecf72a"
      },
      "execution_count": 3,
      "outputs": [
        {
          "output_type": "stream",
          "name": "stdout",
          "text": [
            "1000\n",
            "+----------+------+-------+--------+------+\n",
            "|      Date|UserID|Product|Quantity| Price|\n",
            "+----------+------+-------+--------+------+\n",
            "|2024-04-21|  6815|  Mixer|       6|423.23|\n",
            "|2024-06-07|  8676|  Mixer|       3|299.23|\n",
            "|2023-11-28|  5830|  Mixer|       9| 11.69|\n",
            "|2024-05-30|  1274|   Owen|       5|702.69|\n",
            "|2023-07-19|  1455|  Mixer|       6|615.91|\n",
            "|2024-05-22|  9580| Kettle|       9|568.66|\n",
            "|2023-10-13|  8166|   Owen|       2|128.01|\n",
            "|2024-03-18|  7778|   Owen|       5|639.39|\n",
            "|2023-11-09|  5997|   Owen|       9|433.07|\n",
            "|2023-12-03|  7134|Blender|       2|937.47|\n",
            "+----------+------+-------+--------+------+\n",
            "only showing top 10 rows\n",
            "\n"
          ]
        }
      ]
    },
    {
      "cell_type": "code",
      "source": [
        "# Выгружаем csv\n",
        "df.coalesce(1).write.csv(\"file.csv\", header=True, mode=\"overwrite\")\n",
        "file_path = \"/content/file.csv\"\n",
        "files.download(file_path)"
      ],
      "metadata": {
        "colab": {
          "base_uri": "https://localhost:8080/",
          "height": 34
        },
        "id": "7rllvW6u-hjA",
        "outputId": "aa426005-11d4-43bf-84de-780f7cbb8a1d"
      },
      "execution_count": 5,
      "outputs": [
        {
          "output_type": "display_data",
          "data": {
            "text/plain": [
              "<IPython.core.display.Javascript object>"
            ],
            "application/javascript": [
              "\n",
              "    async function download(id, filename, size) {\n",
              "      if (!google.colab.kernel.accessAllowed) {\n",
              "        return;\n",
              "      }\n",
              "      const div = document.createElement('div');\n",
              "      const label = document.createElement('label');\n",
              "      label.textContent = `Downloading \"${filename}\": `;\n",
              "      div.appendChild(label);\n",
              "      const progress = document.createElement('progress');\n",
              "      progress.max = size;\n",
              "      div.appendChild(progress);\n",
              "      document.body.appendChild(div);\n",
              "\n",
              "      const buffers = [];\n",
              "      let downloaded = 0;\n",
              "\n",
              "      const channel = await google.colab.kernel.comms.open(id);\n",
              "      // Send a message to notify the kernel that we're ready.\n",
              "      channel.send({})\n",
              "\n",
              "      for await (const message of channel.messages) {\n",
              "        // Send a message to notify the kernel that we're ready.\n",
              "        channel.send({})\n",
              "        if (message.buffers) {\n",
              "          for (const buffer of message.buffers) {\n",
              "            buffers.push(buffer);\n",
              "            downloaded += buffer.byteLength;\n",
              "            progress.value = downloaded;\n",
              "          }\n",
              "        }\n",
              "      }\n",
              "      const blob = new Blob(buffers, {type: 'application/binary'});\n",
              "      const a = document.createElement('a');\n",
              "      a.href = window.URL.createObjectURL(blob);\n",
              "      a.download = filename;\n",
              "      div.appendChild(a);\n",
              "      a.click();\n",
              "      div.remove();\n",
              "    }\n",
              "  "
            ]
          },
          "metadata": {}
        },
        {
          "output_type": "display_data",
          "data": {
            "text/plain": [
              "<IPython.core.display.Javascript object>"
            ],
            "application/javascript": [
              "download(\"download_5c6b2e61-fa03-414d-bfa4-d12192c2fdce\", \"file.csv\", 4096)"
            ]
          },
          "metadata": {}
        }
      ]
    },
    {
      "cell_type": "code",
      "source": [],
      "metadata": {
        "id": "5pGQifTXN4zR"
      },
      "execution_count": null,
      "outputs": []
    }
  ]
}